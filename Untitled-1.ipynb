{
 "cells": [
  {
   "cell_type": "code",
   "execution_count": null,
   "id": "9dee2d10",
   "metadata": {},
   "outputs": [],
   "source": []
  },
  {
   "cell_type": "code",
   "execution_count": 8,
   "id": "a5e021fc",
   "metadata": {},
   "outputs": [],
   "source": [
    "import pandas as pd\n",
    "import numpy as np\n",
    "\n",
    "# Specify the delimiter as semicolon\n",
    "data = pd.read_csv(\"C:/Users/risha/OneDrive/Desktop/prices_round_1_day_0.csv\", delimiter=';')"
   ]
  },
  {
   "cell_type": "code",
   "execution_count": 10,
   "id": "28fc5b54",
   "metadata": {},
   "outputs": [
    {
     "name": "stdout",
     "output_type": "stream",
     "text": [
      "<class 'pandas.core.frame.DataFrame'>\n",
      "RangeIndex: 30000 entries, 0 to 29999\n",
      "Data columns (total 17 columns):\n",
      " #   Column           Non-Null Count  Dtype  \n",
      "---  ------           --------------  -----  \n",
      " 0   day              30000 non-null  int64  \n",
      " 1   timestamp        30000 non-null  int64  \n",
      " 2   product          30000 non-null  object \n",
      " 3   bid_price_1      30000 non-null  int64  \n",
      " 4   bid_volume_1     30000 non-null  int64  \n",
      " 5   bid_price_2      11733 non-null  float64\n",
      " 6   bid_volume_2     11733 non-null  float64\n",
      " 7   bid_price_3      2031 non-null   float64\n",
      " 8   bid_volume_3     2031 non-null   float64\n",
      " 9   ask_price_1      30000 non-null  int64  \n",
      " 10  ask_volume_1     30000 non-null  int64  \n",
      " 11  ask_price_2      12518 non-null  float64\n",
      " 12  ask_volume_2     12518 non-null  float64\n",
      " 13  ask_price_3      2115 non-null   float64\n",
      " 14  ask_volume_3     2115 non-null   float64\n",
      " 15  mid_price        30000 non-null  float64\n",
      " 16  profit_and_loss  30000 non-null  float64\n",
      "dtypes: float64(10), int64(6), object(1)\n",
      "memory usage: 3.9+ MB\n"
     ]
    }
   ],
   "source": [
    "data.info()"
   ]
  }
 ],
 "metadata": {
  "kernelspec": {
   "display_name": "Python 3",
   "language": "python",
   "name": "python3"
  },
  "language_info": {
   "codemirror_mode": {
    "name": "ipython",
    "version": 3
   },
   "file_extension": ".py",
   "mimetype": "text/x-python",
   "name": "python",
   "nbconvert_exporter": "python",
   "pygments_lexer": "ipython3",
   "version": "3.12.7"
  }
 },
 "nbformat": 4,
 "nbformat_minor": 5
}
